{
 "cells": [
  {
   "cell_type": "code",
   "execution_count": 6,
   "id": "0ec57b4d",
   "metadata": {},
   "outputs": [
    {
     "name": "stdout",
     "output_type": "stream",
     "text": [
      "Training Accuracy: 1.0\n",
      "Testing Accuracy: 0.7413793103448276\n",
      "\n",
      "✅ Model and Scaler saved as liver_model.pkl & liver_scaler.pkl\n"
     ]
    }
   ],
   "source": [
    "# ==========================\n",
    "# Liver Disease Training\n",
    "# ==========================\n",
    "\n",
    "import pandas as pd\n",
    "import numpy as np\n",
    "import pickle\n",
    "from sklearn.model_selection import train_test_split\n",
    "from sklearn.preprocessing import StandardScaler, LabelEncoder\n",
    "from sklearn.ensemble import RandomForestClassifier\n",
    "\n",
    "# Step 1: Load dataset\n",
    "df = pd.read_csv(\"../data/indian_liver_patient.csv\")\n",
    "\n",
    "# Step 2: Encode categorical columns (Gender)\n",
    "le = LabelEncoder()\n",
    "df['Gender'] = le.fit_transform(df['Gender'])\n",
    "\n",
    "# Step 3: Handle missing values\n",
    "df.dropna(inplace=True)\n",
    "\n",
    "# Step 4: Features & Target\n",
    "X = df.drop(columns=['Dataset'])\n",
    "y = df['Dataset']\n",
    "\n",
    "# Convert target: 1 = disease, 2 = no disease → make binary (1 = disease, 0 = no disease)\n",
    "y = (y == 1).astype(int)\n",
    "\n",
    "# Step 5: Train-test split\n",
    "X_train, X_test, y_train, y_test = train_test_split(\n",
    "    X, y, test_size=0.2, random_state=42, stratify=y\n",
    ")\n",
    "\n",
    "# Scale features\n",
    "scaler = StandardScaler()\n",
    "X_train = scaler.fit_transform(X_train)\n",
    "X_test = scaler.transform(X_test)\n",
    "\n",
    "# Step 6: Train model\n",
    "model = RandomForestClassifier(n_estimators=200, random_state=42)\n",
    "model.fit(X_train, y_train)\n",
    "\n",
    "# Step 7: Evaluate\n",
    "print(\"Training Accuracy:\", model.score(X_train, y_train))\n",
    "print(\"Testing Accuracy:\", model.score(X_test, y_test))\n",
    "\n",
    "# Step 8: Save model & scaler\n",
    "with open(\"../model/liver_model.pkl\", \"wb\") as f:\n",
    "    pickle.dump(model, f)\n",
    "\n",
    "with open(\"../model/liver_scaler.pkl\", \"wb\") as f:\n",
    "    pickle.dump(scaler, f)\n",
    "\n",
    "print(\"\\n✅ Model and Scaler saved as liver_model.pkl & liver_scaler.pkl\")\n"
   ]
  }
 ],
 "metadata": {
  "kernelspec": {
   "display_name": "Python 3",
   "language": "python",
   "name": "python3"
  },
  "language_info": {
   "codemirror_mode": {
    "name": "ipython",
    "version": 3
   },
   "file_extension": ".py",
   "mimetype": "text/x-python",
   "name": "python",
   "nbconvert_exporter": "python",
   "pygments_lexer": "ipython3",
   "version": "3.10.11"
  }
 },
 "nbformat": 4,
 "nbformat_minor": 5
}
